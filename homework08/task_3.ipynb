{
 "cells": [
  {
   "cell_type": "code",
   "execution_count": 1,
   "metadata": {},
   "outputs": [],
   "source": [
    "import math\n",
    "import pandas as pd\n",
    "import numpy as np\n",
    "import matplotlib.pyplot as plt\n",
    "import seaborn as sns\n",
    "from sklearn import datasets\n",
    "%matplotlib inline"
   ]
  },
  {
   "cell_type": "code",
   "execution_count": 2,
   "metadata": {},
   "outputs": [],
   "source": [
    "from sklearn.model_selection import train_test_split"
   ]
  },
  {
   "cell_type": "code",
   "execution_count": 30,
   "metadata": {},
   "outputs": [],
   "source": [
    "data = datasets.load_iris()"
   ]
  },
  {
   "cell_type": "code",
   "execution_count": 7,
   "metadata": {},
   "outputs": [],
   "source": [
    "class LogisticRegression:\n",
    "    def __init__(self, alpha=0.001, max_iter=5000):\n",
    "        self.alpha = alpha\n",
    "        self.max_iter = max_iter\n",
    "\n",
    "    def fit(self, X_train, y_train):  # Обучение и тренировка модели\n",
    "        m = y_train.size\n",
    "        X = X_train.copy()\n",
    "        X = np.insert(X, 0, 1, axis=1)\n",
    "        t = X.T\n",
    "        theta = np.zeros(X.shape[1])\n",
    "\n",
    "        for n in range(self.max_iter):\n",
    "            z = np.dot(theta, t)\n",
    "            sigma = 1 / (1 + np.exp(-z))\n",
    "            theta -= self.alpha * (1 / m) * np.dot((sigma - y_train), X)\n",
    "\n",
    "        self.intercept_ = theta[0]\n",
    "        self.coef_ = theta[1:]\n",
    "\n",
    "        return self.coef_, self.intercept_\n",
    "\n",
    "    def predict(self, X_test):  # Возвращение прогнозов для новых данных\n",
    "        pred = []\n",
    "        for i in range(len(X_test)):\n",
    "            z = self.intercept_ + np.sum(X_test[i] * self.coef_)\n",
    "            sigma = 1 / (1 + np.exp(-z))\n",
    "\n",
    "            if sigma >= 0.5:\n",
    "                pred.append(1)\n",
    "            else:\n",
    "                pred.append(0)\n",
    "\n",
    "        return pred\n",
    "\n",
    "    def predict_proba(self, X_test):\n",
    "        return [(1 / (1 + np.exp(-(self.intercept_ + np.sum(X_test[i] * self.coef_)))), 1 - 1 / (1 + np.exp(-(self.intercept_ + np.sum(X_test[i] * self.coef_))))) for i in range(len(X_test))]"
   ]
  },
  {
   "cell_type": "code",
   "execution_count": 16,
   "metadata": {},
   "outputs": [],
   "source": [
    "iris = pd.DataFrame(data=data.data, columns=data.feature_names)"
   ]
  },
  {
   "cell_type": "code",
   "execution_count": 19,
   "metadata": {},
   "outputs": [],
   "source": [
    "iris = iris.drop(\"petal length (cm)\", axis=1)"
   ]
  },
  {
   "cell_type": "code",
   "execution_count": 20,
   "metadata": {},
   "outputs": [],
   "source": [
    "iris = iris.drop(\"petal width (cm)\", axis=1)"
   ]
  },
  {
   "cell_type": "code",
   "execution_count": 21,
   "metadata": {},
   "outputs": [
    {
     "data": {
      "text/html": [
       "<div>\n",
       "<style scoped>\n",
       "    .dataframe tbody tr th:only-of-type {\n",
       "        vertical-align: middle;\n",
       "    }\n",
       "\n",
       "    .dataframe tbody tr th {\n",
       "        vertical-align: top;\n",
       "    }\n",
       "\n",
       "    .dataframe thead th {\n",
       "        text-align: right;\n",
       "    }\n",
       "</style>\n",
       "<table border=\"1\" class=\"dataframe\">\n",
       "  <thead>\n",
       "    <tr style=\"text-align: right;\">\n",
       "      <th></th>\n",
       "      <th>sepal length (cm)</th>\n",
       "      <th>sepal width (cm)</th>\n",
       "    </tr>\n",
       "  </thead>\n",
       "  <tbody>\n",
       "    <tr>\n",
       "      <th>0</th>\n",
       "      <td>5.1</td>\n",
       "      <td>3.5</td>\n",
       "    </tr>\n",
       "    <tr>\n",
       "      <th>1</th>\n",
       "      <td>4.9</td>\n",
       "      <td>3.0</td>\n",
       "    </tr>\n",
       "    <tr>\n",
       "      <th>2</th>\n",
       "      <td>4.7</td>\n",
       "      <td>3.2</td>\n",
       "    </tr>\n",
       "    <tr>\n",
       "      <th>3</th>\n",
       "      <td>4.6</td>\n",
       "      <td>3.1</td>\n",
       "    </tr>\n",
       "    <tr>\n",
       "      <th>4</th>\n",
       "      <td>5.0</td>\n",
       "      <td>3.6</td>\n",
       "    </tr>\n",
       "  </tbody>\n",
       "</table>\n",
       "</div>"
      ],
      "text/plain": [
       "   sepal length (cm)  sepal width (cm)\n",
       "0                5.1               3.5\n",
       "1                4.9               3.0\n",
       "2                4.7               3.2\n",
       "3                4.6               3.1\n",
       "4                5.0               3.6"
      ]
     },
     "execution_count": 21,
     "metadata": {},
     "output_type": "execute_result"
    }
   ],
   "source": [
    "iris.head()"
   ]
  },
  {
   "cell_type": "code",
   "execution_count": 31,
   "metadata": {},
   "outputs": [
    {
     "data": {
      "image/png": "[encoded data removed]",
      "text/plain": [
       "<Figure size 432x288 with 1 Axes>"
      ]
     },
     "metadata": {
      "needs_background": "light"
     },
     "output_type": "display_data"
    }
   ],
   "source": [
    "X = data.data[:100, :2]\n",
    "y = data.target[:100]\n",
    "\n",
    "setosa = plt.scatter(X[:50,0], X[:50,1], c='orange')\n",
    "versicolor = plt.scatter(X[50:,0], X[50:,1], c='blue')\n",
    "plt.xlabel(\"Sepal Length\")\n",
    "plt.ylabel(\"Sepal Width\")\n",
    "plt.legend((setosa, versicolor), (\"Setosa\", \"Versicolor\"))\n",
    "sns.despine()"
   ]
  },
  {
   "cell_type": "code",
   "execution_count": 32,
   "metadata": {},
   "outputs": [],
   "source": [
    "X_train, X_test, y_train, y_test = train_test_split(X, y, test_size=0.3, random_state=17)"
   ]
  },
  {
   "cell_type": "code",
   "execution_count": 36,
   "metadata": {},
   "outputs": [],
   "source": [
    "model = LogisticRegression()"
   ]
  },
  {
   "cell_type": "code",
   "execution_count": 37,
   "metadata": {},
   "outputs": [
    {
     "data": {
      "text/plain": [
       "(array([ 0.52684561, -0.88058947]), -0.10475714558544347)"
      ]
     },
     "execution_count": 37,
     "metadata": {},
     "output_type": "execute_result"
    }
   ],
   "source": [
    "model.fit(X_train, y_train)"
   ]
  },
  {
   "cell_type": "code",
   "execution_count": 38,
   "metadata": {},
   "outputs": [],
   "source": [
    "answers = model.predict(X_test)"
   ]
  },
  {
   "cell_type": "code",
   "execution_count": 44,
   "metadata": {},
   "outputs": [
    {
     "data": {
      "text/plain": [
       "[1,\n",
       " 0,\n",
       " 0,\n",
       " 0,\n",
       " 1,\n",
       " 0,\n",
       " 1,\n",
       " 1,\n",
       " 0,\n",
       " 0,\n",
       " 1,\n",
       " 1,\n",
       " 0,\n",
       " 1,\n",
       " 0,\n",
       " 0,\n",
       " 0,\n",
       " 1,\n",
       " 0,\n",
       " 1,\n",
       " 1,\n",
       " 1,\n",
       " 0,\n",
       " 1,\n",
       " 1,\n",
       " 1,\n",
       " 0,\n",
       " 0,\n",
       " 1,\n",
       " 1]"
      ]
     },
     "execution_count": 44,
     "metadata": {},
     "output_type": "execute_result"
    }
   ],
   "source": [
    "answers"
   ]
  },
  {
   "cell_type": "code",
   "execution_count": 40,
   "metadata": {},
   "outputs": [],
   "source": [
    "question = model.predict_proba(X_test)"
   ]
  },
  {
   "cell_type": "code",
   "execution_count": 45,
   "metadata": {},
   "outputs": [
    {
     "data": {
      "text/plain": [
       "[(0.6555104639663265, 0.3444895360336735),\n",
       " (0.4111619086476548, 0.5888380913523452),\n",
       " (0.4370751414985938, 0.5629248585014062),\n",
       " (0.3450993495277244, 0.6549006504722756),\n",
       " (0.6555104639663265, 0.3444895360336735),\n",
       " (0.4370751414985938, 0.5629248585014062),\n",
       " (0.6149071230467759, 0.38509287695322414),\n",
       " (0.659578123571558, 0.340421876428442),\n",
       " (0.3777395836779466, 0.6222604163220534),\n",
       " (0.3332914278204301, 0.6667085721795699),\n",
       " (0.623425910355245, 0.37657408964475503),\n",
       " (0.7334392262835069, 0.2665607737164931),\n",
       " (0.36526319590974843, 0.6347368040902516),\n",
       " (0.5463033585072292, 0.4536966414927708),\n",
       " (0.36091142273143617, 0.6390885772685638),\n",
       " (0.33312389564218164, 0.6668761043578184),\n",
       " (0.38984182004929796, 0.6101581799507021),\n",
       " (0.6636223999161007, 0.3363776000838993),\n",
       " (0.28790473047350207, 0.7120952695264979),\n",
       " (0.6230717999375369, 0.3769282000624631),\n",
       " (0.7665647459056655, 0.23343525409433452),\n",
       " (0.6831512943151677, 0.31684870568483225),\n",
       " (0.36108536289523396, 0.638914637104766),\n",
       " (0.6395371508176899, 0.3604628491823101),\n",
       " (0.6395371508176899, 0.3604628491823101),\n",
       " (0.6636223999161007, 0.3363776000838993),\n",
       " (0.36125933950219086, 0.6387406604978092),\n",
       " (0.4719550871281919, 0.5280449128718081),\n",
       " (0.6749490925461287, 0.32505090745387133),\n",
       " (0.6829880562434583, 0.31701194375654174)]"
      ]
     },
     "execution_count": 45,
     "metadata": {},
     "output_type": "execute_result"
    }
   ],
   "source": [
    "question"
   ]
  }
 ],
 "metadata": {
  "kernelspec": {
   "display_name": "Python 3",
   "language": "python",
   "name": "python3"
  },
  "language_info": {
   "codemirror_mode": {
    "name": "ipython",
    "version": 3
   },
   "file_extension": ".py",
   "mimetype": "text/x-python",
   "name": "python",
   "nbconvert_exporter": "python",
   "pygments_lexer": "ipython3",
   "version": "3.7.1"
  }
 },
 "nbformat": 4,
 "nbformat_minor": 2
}
