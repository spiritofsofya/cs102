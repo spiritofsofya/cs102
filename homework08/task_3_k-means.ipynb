{
 "cells": [
  {
   "cell_type": "code",
   "execution_count": 16,
   "metadata": {},
   "outputs": [],
   "source": [
    "import math\n",
    "import pandas as pd\n",
    "import numpy as np\n",
    "import matplotlib.pyplot as plt\n",
    "import seaborn as sns\n",
    "from sklearn import datasets\n",
    "%matplotlib inline\n",
    "import random\n",
    "from math import fsum\n",
    "from math import sqrt\n",
    "from copy import deepcopy"
   ]
  },
  {
   "cell_type": "code",
   "execution_count": 28,
   "metadata": {},
   "outputs": [],
   "source": [
    "import warnings\n",
    "warnings.filterwarnings('ignore')"
   ]
  },
  {
   "cell_type": "code",
   "execution_count": 35,
   "metadata": {},
   "outputs": [],
   "source": [
    "def distance(v1, v2, ax=1):\n",
    "    return np.linalg.norm(v1 - v2, axis=ax)  # Distance between dots & centroids"
   ]
  },
  {
   "cell_type": "code",
   "execution_count": 36,
   "metadata": {},
   "outputs": [],
   "source": [
    "class KMeans:\n",
    "    def __init__(self, n_clusters, max_iter=500):\n",
    "        self.n_clusters = n_clusters\n",
    "        self.max_iter = max_iter\n",
    "\n",
    "    def fit(self, X):\n",
    "        n_samples = len(X)\n",
    "        centroids = X[np.random.choice(X.shape[0], self.n_clusters, replace=False)]\n",
    "        centroids_old = np.zeros(centroids.shape)   # Shape - array size\n",
    "        clusters = np.zeros(n_samples)  # Х - 0 matrix size\n",
    "\n",
    "        while True:\n",
    "            for i in range(n_samples):\n",
    "                distances = distance(X[i,], centroids)\n",
    "                clusters[i] = distances.argmin()\n",
    "            centroids_old = deepcopy(centroids)\n",
    "            for k in range(self.n_clusters):\n",
    "                centroids[k] = X[clusters == k,].mean(axis=0)   # Match centroids to clusters\n",
    "            error = distance(centroids, centroids_old, None)\n",
    "            if (error >= 0) and (error <= 0.01):\n",
    "                self.clusters = clusters.astype(\"int\")  # Element's own to a cluster\n",
    "                self.centroids = centroids\n",
    "                break\n",
    "\n",
    "    def predict(self, y):\n",
    "        y_unique = np.unique(y)  # Distinguish clusters\n",
    "        y_unique_num = [i for i in range(len(np.unique(y)))]    # Cluster numbers\n",
    "        n_samples = len(X)\n",
    "        clusters = np.zeros(n_samples)  # Х - 0 matrix size\n",
    "        for k in range(n_samples):  # Assign numbers (instead of names) to clusters\n",
    "            for j in range(self.n_clusters):\n",
    "                if y[k][0] == y_unique[j]:\n",
    "                    y[k] = y_unique_num[j]\n",
    "            clusters[k] = y[k]\n",
    "        centroids = X[np.random.choice(X.shape[0], self.n_clusters,\n",
    "                                       replace=False)]   # X.shape[0] - lines\n",
    "        centroids_old = np.zeros(centroids.shape)  # Shape - array size\n",
    "        while True:\n",
    "            centroids_old = deepcopy(centroids)\n",
    "            error = distance(centroids, centroids_old, None)\n",
    "            if error == 0:\n",
    "                self.clusters = clusters.astype(int)\n",
    "                self.centroids = centroids\n",
    "        return self.centroids, self.clusters\n"
   ]
  },
  {
   "cell_type": "code",
   "execution_count": 38,
   "metadata": {},
   "outputs": [],
   "source": [
    "iris = pd.read_csv(\"iris.csv\")"
   ]
  },
  {
   "cell_type": "code",
   "execution_count": 39,
   "metadata": {},
   "outputs": [],
   "source": [
    "X = df.loc[:, df.columns != \"Name\"].as_matrix()"
   ]
  },
  {
   "cell_type": "code",
   "execution_count": 40,
   "metadata": {},
   "outputs": [],
   "source": [
    "model = KMeans(3)\n",
    "model.fit(X)"
   ]
  },
  {
   "cell_type": "code",
   "execution_count": 42,
   "metadata": {},
   "outputs": [
    {
     "data": {
      "text/plain": [
       "<Figure size 1008x504 with 0 Axes>"
      ]
     },
     "metadata": {},
     "output_type": "display_data"
    }
   ],
   "source": [
    "clusters = model.clusters\n",
    "plt.figure(figsize=(14, 7))\n",
    "colormap = np.array([\"red\", \"blue\", \"black\"])"
   ]
  },
  {
   "cell_type": "code",
   "execution_count": 43,
   "metadata": {
    "scrolled": true
   },
   "outputs": [
    {
     "data": {
      "image/png": "[encoded data removed]",
      "text/plain": [
       "<Figure size 432x288 with 1 Axes>"
      ]
     },
     "metadata": {
      "needs_background": "light"
     },
     "output_type": "display_data"
    }
   ],
   "source": [
    "plt.subplot(1, 2, 1)\n",
    "plt.scatter(df.SepalLength, df.SepalWidth, c=colormap[clusters], s=40)\n",
    "plt.title(\"Sepal\")\n",
    "plt.show()"
   ]
  }
 ],
 "metadata": {
  "kernelspec": {
   "display_name": "Python 3",
   "language": "python",
   "name": "python3"
  },
  "language_info": {
   "codemirror_mode": {
    "name": "ipython",
    "version": 3
   },
   "file_extension": ".py",
   "mimetype": "text/x-python",
   "name": "python",
   "nbconvert_exporter": "python",
   "pygments_lexer": "ipython3",
   "version": "3.7.1"
  }
 },
 "nbformat": 4,
 "nbformat_minor": 2
}
