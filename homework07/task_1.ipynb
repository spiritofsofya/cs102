{
 "cells": [
  {
   "cell_type": "markdown",
   "metadata": {},
   "source": [
    "<center>\n",
    "Открытый курс по машинному обучению\n",
    "<center>\n",
    "Автор материала: Юрий Кашницкий, программист-исследователь Mail.Ru Group <br> "
   ]
  },
  {
   "cell_type": "markdown",
   "metadata": {},
   "source": [
    "# <center>Домашнее задание № 1.<br> Анализ данных по доходу населения UCI Adult</center>"
   ]
  },
  {
   "cell_type": "markdown",
   "metadata": {},
   "source": [
    "Уникальные значения признаков:\n",
    "- age: continuous.\n",
    "- workclass: Private, Self-emp-not-inc, Self-emp-inc, Federal-gov, Local-gov, State-gov, Without-pay, Never-worked.\n",
    "- fnlwgt: continuous.\n",
    "- education: Bachelors, Some-college, 11th, HS-grad, Prof-school, Assoc-acdm, Assoc-voc, 9th, 7th-8th, 12th, Masters, 1st-4th, 10th, Doctorate, 5th-6th, Preschool.\n",
    "- education-num: continuous.\n",
    "- marital-status: Married-civ-spouse, Divorced, Never-married, Separated, Widowed, Married-spouse-absent, Married-AF-spouse.\n",
    "- occupation: Tech-support, Craft-repair, Other-service, Sales, Exec-managerial, Prof-specialty, Handlers-cleaners, Machine-op-inspct, Adm-clerical, Farming-fishing, Transport-moving, Priv-house-serv, Protective-serv, Armed-Forces.\n",
    "- relationship: Wife, Own-child, Husband, Not-in-family, Other-relative, Unmarried.\n",
    "- race: White, Asian-Pac-Islander, Amer-Indian-Eskimo, Other, Black.\n",
    "- sex: Female, Male.\n",
    "- capital-gain: continuous.\n",
    "- capital-loss: continuous.\n",
    "- hours-per-week: continuous.\n",
    "- native-country: United-States, Cambodia, England, Puerto-Rico, Canada, Germany, Outlying-US(Guam-USVI-etc), India, Japan, Greece, South, China, Cuba, Iran, Honduras, Philippines, Italy, Poland, Jamaica, Vietnam, Mexico, Portugal, Ireland, France, Dominican-Republic, Laos, Ecuador, Taiwan, Haiti, Columbia, Hungary, Guatemala, Nicaragua, Scotland, Thailand, Yugoslavia, El-Salvador, Trinadad&Tobago, Peru, Hong, Holand-Netherlands.   \n",
    "- salary: >50K,<=50K"
   ]
  },
  {
   "cell_type": "code",
   "execution_count": 1,
   "metadata": {},
   "outputs": [],
   "source": [
    "import pandas as pd"
   ]
  },
  {
   "cell_type": "code",
   "execution_count": 4,
   "metadata": {},
   "outputs": [
    {
     "data": {
      "text/html": [
       "<div>\n",
       "<style scoped>\n",
       "    .dataframe tbody tr th:only-of-type {\n",
       "        vertical-align: middle;\n",
       "    }\n",
       "\n",
       "    .dataframe tbody tr th {\n",
       "        vertical-align: top;\n",
       "    }\n",
       "\n",
       "    .dataframe thead th {\n",
       "        text-align: right;\n",
       "    }\n",
       "</style>\n",
       "<table border=\"1\" class=\"dataframe\">\n",
       "  <thead>\n",
       "    <tr style=\"text-align: right;\">\n",
       "      <th></th>\n",
       "      <th>age</th>\n",
       "      <th>workclass</th>\n",
       "      <th>fnlwgt</th>\n",
       "      <th>education</th>\n",
       "      <th>education-num</th>\n",
       "      <th>marital-status</th>\n",
       "      <th>occupation</th>\n",
       "      <th>relationship</th>\n",
       "      <th>race</th>\n",
       "      <th>sex</th>\n",
       "      <th>capital-gain</th>\n",
       "      <th>capital-loss</th>\n",
       "      <th>hours-per-week</th>\n",
       "      <th>native-country</th>\n",
       "      <th>salary</th>\n",
       "    </tr>\n",
       "  </thead>\n",
       "  <tbody>\n",
       "    <tr>\n",
       "      <th>0</th>\n",
       "      <td>39</td>\n",
       "      <td>State-gov</td>\n",
       "      <td>77516</td>\n",
       "      <td>Bachelors</td>\n",
       "      <td>13</td>\n",
       "      <td>Never-married</td>\n",
       "      <td>Adm-clerical</td>\n",
       "      <td>Not-in-family</td>\n",
       "      <td>White</td>\n",
       "      <td>Male</td>\n",
       "      <td>2174</td>\n",
       "      <td>0</td>\n",
       "      <td>40</td>\n",
       "      <td>United-States</td>\n",
       "      <td>&lt;=50K</td>\n",
       "    </tr>\n",
       "    <tr>\n",
       "      <th>1</th>\n",
       "      <td>50</td>\n",
       "      <td>Self-emp-not-inc</td>\n",
       "      <td>83311</td>\n",
       "      <td>Bachelors</td>\n",
       "      <td>13</td>\n",
       "      <td>Married-civ-spouse</td>\n",
       "      <td>Exec-managerial</td>\n",
       "      <td>Husband</td>\n",
       "      <td>White</td>\n",
       "      <td>Male</td>\n",
       "      <td>0</td>\n",
       "      <td>0</td>\n",
       "      <td>13</td>\n",
       "      <td>United-States</td>\n",
       "      <td>&lt;=50K</td>\n",
       "    </tr>\n",
       "    <tr>\n",
       "      <th>2</th>\n",
       "      <td>38</td>\n",
       "      <td>Private</td>\n",
       "      <td>215646</td>\n",
       "      <td>HS-grad</td>\n",
       "      <td>9</td>\n",
       "      <td>Divorced</td>\n",
       "      <td>Handlers-cleaners</td>\n",
       "      <td>Not-in-family</td>\n",
       "      <td>White</td>\n",
       "      <td>Male</td>\n",
       "      <td>0</td>\n",
       "      <td>0</td>\n",
       "      <td>40</td>\n",
       "      <td>United-States</td>\n",
       "      <td>&lt;=50K</td>\n",
       "    </tr>\n",
       "    <tr>\n",
       "      <th>3</th>\n",
       "      <td>53</td>\n",
       "      <td>Private</td>\n",
       "      <td>234721</td>\n",
       "      <td>11th</td>\n",
       "      <td>7</td>\n",
       "      <td>Married-civ-spouse</td>\n",
       "      <td>Handlers-cleaners</td>\n",
       "      <td>Husband</td>\n",
       "      <td>Black</td>\n",
       "      <td>Male</td>\n",
       "      <td>0</td>\n",
       "      <td>0</td>\n",
       "      <td>40</td>\n",
       "      <td>United-States</td>\n",
       "      <td>&lt;=50K</td>\n",
       "    </tr>\n",
       "    <tr>\n",
       "      <th>4</th>\n",
       "      <td>28</td>\n",
       "      <td>Private</td>\n",
       "      <td>338409</td>\n",
       "      <td>Bachelors</td>\n",
       "      <td>13</td>\n",
       "      <td>Married-civ-spouse</td>\n",
       "      <td>Prof-specialty</td>\n",
       "      <td>Wife</td>\n",
       "      <td>Black</td>\n",
       "      <td>Female</td>\n",
       "      <td>0</td>\n",
       "      <td>0</td>\n",
       "      <td>40</td>\n",
       "      <td>Cuba</td>\n",
       "      <td>&lt;=50K</td>\n",
       "    </tr>\n",
       "  </tbody>\n",
       "</table>\n",
       "</div>"
      ],
      "text/plain": [
       "   age         workclass  fnlwgt  education  education-num  \\\n",
       "0   39         State-gov   77516  Bachelors             13   \n",
       "1   50  Self-emp-not-inc   83311  Bachelors             13   \n",
       "2   38           Private  215646    HS-grad              9   \n",
       "3   53           Private  234721       11th              7   \n",
       "4   28           Private  338409  Bachelors             13   \n",
       "\n",
       "       marital-status         occupation   relationship   race     sex  \\\n",
       "0       Never-married       Adm-clerical  Not-in-family  White    Male   \n",
       "1  Married-civ-spouse    Exec-managerial        Husband  White    Male   \n",
       "2            Divorced  Handlers-cleaners  Not-in-family  White    Male   \n",
       "3  Married-civ-spouse  Handlers-cleaners        Husband  Black    Male   \n",
       "4  Married-civ-spouse     Prof-specialty           Wife  Black  Female   \n",
       "\n",
       "   capital-gain  capital-loss  hours-per-week native-country salary  \n",
       "0          2174             0              40  United-States  <=50K  \n",
       "1             0             0              13  United-States  <=50K  \n",
       "2             0             0              40  United-States  <=50K  \n",
       "3             0             0              40  United-States  <=50K  \n",
       "4             0             0              40           Cuba  <=50K  "
      ]
     },
     "execution_count": 4,
     "metadata": {},
     "output_type": "execute_result"
    }
   ],
   "source": [
    "data = pd.read_csv('../data/adult.data.csv')\n",
    "data.head()"
   ]
  },
  {
   "cell_type": "markdown",
   "metadata": {},
   "source": [
    "**1. Сколько мужчин и женщин (признак *sex*) представлено в этом наборе данных?**"
   ]
  },
  {
   "cell_type": "code",
   "execution_count": 5,
   "metadata": {},
   "outputs": [
    {
     "name": "stdout",
     "output_type": "stream",
     "text": [
      "males:  21790\n",
      "females:  10771\n"
     ]
    }
   ],
   "source": [
    "female_amount = len(data[data['sex'] == 'Female'])\n",
    "male_amount = len(data[data['sex'] == 'Male'])\n",
    "print('males: ', male_amount)\n",
    "print('females: ', female_amount)"
   ]
  },
  {
   "cell_type": "markdown",
   "metadata": {},
   "source": [
    "**2. Каков средний возраст (признак *age*) женщин?**"
   ]
  },
  {
   "cell_type": "code",
   "execution_count": 6,
   "metadata": {},
   "outputs": [
    {
     "name": "stdout",
     "output_type": "stream",
     "text": [
      "mean age of females:  37\n"
     ]
    }
   ],
   "source": [
    "mean_fem_age = data[data['sex'] == 'Female']['age'].mean()\n",
    "print('mean age of females: ', round(mean_fem_age))"
   ]
  },
  {
   "cell_type": "markdown",
   "metadata": {},
   "source": [
    "**3. Какова доля граждан Германии (признак *native-country*)?**"
   ]
  },
  {
   "cell_type": "code",
   "execution_count": 7,
   "metadata": {},
   "outputs": [
    {
     "name": "stdout",
     "output_type": "stream",
     "text": [
      "0.42 % of people are German\n"
     ]
    }
   ],
   "source": [
    "germans = len(data[data['native-country'] == 'Germany'])\n",
    "all_ppl = len(data)\n",
    "per_german = round((germans / all_ppl * 100), 2)\n",
    "print(per_german,'% of people are German')"
   ]
  },
  {
   "cell_type": "markdown",
   "metadata": {},
   "source": [
    "**4-5. Каковы средние значения и среднеквадратичные отклонения возраста тех, кто получает более 50K в год (признак *salary*) и тех, кто получает менее 50K в год? **"
   ]
  },
  {
   "cell_type": "code",
   "execution_count": 8,
   "metadata": {},
   "outputs": [
    {
     "name": "stdout",
     "output_type": "stream",
     "text": [
      "mean age of people with salary above 50K:  44  \n",
      " standart deviation:  10.51902771985177 \n",
      "\n",
      "mean age of people with salary under 50K:  37  \n",
      " standart deviation:  14.020088490824813\n"
     ]
    }
   ],
   "source": [
    "mean_age_rich = round(data[data['salary'] == '>50K']['age'].mean())\n",
    "mean_age_poor = round(data[data['salary'] == '<=50K']['age'].mean())\n",
    "std_rich = data[data['salary'] == '>50K']['age'].std()\n",
    "std_poor = data[data['salary'] == '<=50K']['age'].std()\n",
    "print(\"mean age of people with salary above 50K: \", mean_age_rich, \" \\n standart deviation: \", std_rich, \"\\n\")\n",
    "print(\"mean age of people with salary under 50K: \", mean_age_poor,  \" \\n standart deviation: \", std_poor)"
   ]
  },
  {
   "cell_type": "markdown",
   "metadata": {},
   "source": [
    "**6. Правда ли, что люди, которые получают больше 50k, имеют как минимум высшее образование? (признак *education – Bachelors, Prof-school, Assoc-acdm, Assoc-voc, Masters* или *Doctorate*)**"
   ]
  },
  {
   "cell_type": "code",
   "execution_count": 9,
   "metadata": {},
   "outputs": [
    {
     "name": "stdout",
     "output_type": "stream",
     "text": [
      "10th amount:  62\n",
      "11th amount:  60\n",
      "12th amount:  33\n",
      "1st-4th amount:  6\n",
      "5th-6th amount:  16\n",
      "7th-8th amount:  40\n",
      "9th amount:  27\n",
      "HS-grad amount:  1675\n",
      "Some-college amount:  1387\n",
      "\n",
      "amount of people without higher education with salary above 50K:  3306\n",
      "conclusion: false\n"
     ]
    }
   ],
   "source": [
    "rich_without_higher_edu = []\n",
    "\n",
    "for edu_type, person_info in data[data['salary'] == '>50K'].groupby('education'):\n",
    "    \n",
    "    if (edu_type!='Bachelors' and edu_type!='Prof-school' and edu_type!='Assoc-acdm'\\\n",
    "        and edu_type!='Assoc-voc' and edu_type!='Masters' and edu_type!='Doctorate'):\n",
    "        \n",
    "        print(edu_type, \"amount: \", len(person_info))\n",
    "        rich_without_higher_edu.append(len(person_info))\n",
    "        \n",
    "print(\"\\namount of people without higher education with salary above 50K: \", sum(rich_without_higher_edu))\n",
    "\n",
    "if sum(rich_without_higher_edu) == 0:\n",
    "    print('conclusion: true')\n",
    "else: \n",
    "    print('conclusion: false')\n"
   ]
  },
  {
   "cell_type": "markdown",
   "metadata": {},
   "source": [
    "**7. Выведите статистику возраста для каждой расы (признак *race*) и каждого пола. Используйте *groupby* и *describe*. Найдите таким образом максимальный возраст мужчин расы *Amer-Indian-Eskimo*.**"
   ]
  },
  {
   "cell_type": "code",
   "execution_count": 10,
   "metadata": {},
   "outputs": [
    {
     "name": "stdout",
     "output_type": "stream",
     "text": [
      "maximum age of a male person of Amer-Indian-Eskimo race: 82\n"
     ]
    }
   ],
   "source": [
    "for race, info in data[data['sex'] == 'Male'].groupby('race'):\n",
    "    if race == 'Amer-Indian-Eskimo':\n",
    "        print(\"maximum age of a male person of Amer-Indian-Eskimo race:\", info['age'].max())"
   ]
  },
  {
   "cell_type": "markdown",
   "metadata": {},
   "source": [
    "**8. Среди кого больше доля зарабатывающих много (>50K): среди женатых или холостых мужчин (признак *marital-status*)? Женатыми считаем тех, у кого *marital-status* начинается с *Married* (Married-civ-spouse, Married-spouse-absent или Married-AF-spouse), остальных считаем холостыми.**"
   ]
  },
  {
   "cell_type": "code",
   "execution_count": 11,
   "metadata": {},
   "outputs": [],
   "source": [
    "data['is_married'] = data['marital-status']==('Married-civ-spouse'or'Married-spouse-absent'or'Married-AF-spouse')\n",
    "#добавление новой колонки, объединяющей 3 категории замужества "
   ]
  },
  {
   "cell_type": "code",
   "execution_count": 33,
   "metadata": {},
   "outputs": [
    {
     "name": "stdout",
     "output_type": "stream",
     "text": [
      "45 % of married people have salary above 50K\n",
      "7 % of single people have salary above 50K\n"
     ]
    }
   ],
   "source": [
    "rich_people = data[data['salary'] == '>50K']\n",
    "rich_married = len(rich_people[rich_people['is_married'] == True])\n",
    "rich_single = len(rich_people[rich_people['is_married'] == False])\n",
    "\n",
    "all_married = len(data[data['is_married'] == True])\n",
    "all_single = len(data[data['is_married'] == False])\n",
    "\n",
    "print(round((rich_married / all_married * 100)), \"% of married people have salary above 50K\")\n",
    "print(round((rich_single / all_single * 100)), \"% of single people have salary above 50K\")"
   ]
  },
  {
   "cell_type": "markdown",
   "metadata": {},
   "source": [
    "**9. Какое максимальное число часов человек работает в неделю (признак *hours-per-week*)? Сколько людей работают такое количество часов и каков среди них процент зарабатывающих много?**"
   ]
  },
  {
   "cell_type": "code",
   "execution_count": 79,
   "metadata": {},
   "outputs": [
    {
     "name": "stdout",
     "output_type": "stream",
     "text": [
      "max hours per week:  99\n",
      "amount of people working max hours:  85\n",
      "29 % of people working max hours have salary above 50K\n"
     ]
    }
   ],
   "source": [
    "max_hours = data['hours-per-week'].max()\n",
    "max_h_workers = data[data['hours-per-week'] == max_hours]\n",
    "rich_max_workers = max_h_workers[max_h_workers['salary'] == '>50K']\n",
    "\n",
    "print(\"max hours per week: \", max_hours)\n",
    "print(\"amount of people working max hours: \", len(max_h_workers))\n",
    "print(round(len(rich_max_workers) / len(max_h_workers) * 100),\\\n",
    "      \"% of people working max hours have salary above 50K\")"
   ]
  },
  {
   "cell_type": "markdown",
   "metadata": {},
   "source": [
    "**10. Посчитайте среднее время работы (*hours-per-week*) зарабатывающих мало и много (*salary*) для каждой страны (*native-country*).**"
   ]
  },
  {
   "cell_type": "code",
   "execution_count": 78,
   "metadata": {},
   "outputs": [
    {
     "name": "stdout",
     "output_type": "stream",
     "text": [
      "country:  Cambodia\n",
      "hours per week of people with salary above 50K:  40\n",
      "hours per week of people with salary below 50K:  41 \n",
      "\n",
      "country:  Canada\n",
      "hours per week of people with salary above 50K:  46\n",
      "hours per week of people with salary below 50K:  38 \n",
      "\n",
      "country:  China\n",
      "hours per week of people with salary above 50K:  39\n",
      "hours per week of people with salary below 50K:  37 \n",
      "\n",
      "country:  Columbia\n",
      "hours per week of people with salary above 50K:  50\n",
      "hours per week of people with salary below 50K:  39 \n",
      "\n",
      "country:  Cuba\n",
      "hours per week of people with salary above 50K:  42\n",
      "hours per week of people with salary below 50K:  38 \n",
      "\n",
      "country:  Dominican-Republic\n",
      "hours per week of people with salary above 50K:  47\n",
      "hours per week of people with salary below 50K:  42 \n",
      "\n",
      "country:  Ecuador\n",
      "hours per week of people with salary above 50K:  49\n",
      "hours per week of people with salary below 50K:  38 \n",
      "\n",
      "country:  El-Salvador\n",
      "hours per week of people with salary above 50K:  45\n",
      "hours per week of people with salary below 50K:  36 \n",
      "\n",
      "country:  England\n",
      "hours per week of people with salary above 50K:  45\n",
      "hours per week of people with salary below 50K:  40 \n",
      "\n",
      "country:  France\n",
      "hours per week of people with salary above 50K:  51\n",
      "hours per week of people with salary below 50K:  41 \n",
      "\n",
      "country:  Germany\n",
      "hours per week of people with salary above 50K:  45\n",
      "hours per week of people with salary below 50K:  39 \n",
      "\n",
      "country:  Greece\n",
      "hours per week of people with salary above 50K:  51\n",
      "hours per week of people with salary below 50K:  42 \n",
      "\n",
      "country:  Guatemala\n",
      "hours per week of people with salary above 50K:  37\n",
      "hours per week of people with salary below 50K:  39 \n",
      "\n",
      "country:  Haiti\n",
      "hours per week of people with salary above 50K:  43\n",
      "hours per week of people with salary below 50K:  36 \n",
      "\n",
      "country:  Holand-Netherlands\n",
      "no people with such salary \n",
      "\n",
      "country:  Honduras\n",
      "hours per week of people with salary above 50K:  60\n",
      "hours per week of people with salary below 50K:  34 \n",
      "\n",
      "country:  Hong\n",
      "hours per week of people with salary above 50K:  45\n",
      "hours per week of people with salary below 50K:  39 \n",
      "\n",
      "country:  Hungary\n",
      "hours per week of people with salary above 50K:  50\n",
      "hours per week of people with salary below 50K:  31 \n",
      "\n",
      "country:  India\n",
      "hours per week of people with salary above 50K:  46\n",
      "hours per week of people with salary below 50K:  38 \n",
      "\n",
      "country:  Iran\n",
      "hours per week of people with salary above 50K:  48\n",
      "hours per week of people with salary below 50K:  41 \n",
      "\n",
      "country:  Ireland\n",
      "hours per week of people with salary above 50K:  48\n",
      "hours per week of people with salary below 50K:  41 \n",
      "\n",
      "country:  Italy\n",
      "hours per week of people with salary above 50K:  45\n",
      "hours per week of people with salary below 50K:  40 \n",
      "\n",
      "country:  Jamaica\n",
      "hours per week of people with salary above 50K:  41\n",
      "hours per week of people with salary below 50K:  38 \n",
      "\n",
      "country:  Japan\n",
      "hours per week of people with salary above 50K:  48\n",
      "hours per week of people with salary below 50K:  41 \n",
      "\n",
      "country:  Laos\n",
      "hours per week of people with salary above 50K:  40\n",
      "hours per week of people with salary below 50K:  40 \n",
      "\n",
      "country:  Mexico\n",
      "hours per week of people with salary above 50K:  47\n",
      "hours per week of people with salary below 50K:  40 \n",
      "\n",
      "country:  Nicaragua\n",
      "hours per week of people with salary above 50K:  38\n",
      "hours per week of people with salary below 50K:  36 \n",
      "\n",
      "country:  Outlying-US(Guam-USVI-etc)\n",
      "no people with such salary \n",
      "\n",
      "country:  Peru\n",
      "hours per week of people with salary above 50K:  40\n",
      "hours per week of people with salary below 50K:  35 \n",
      "\n",
      "country:  Philippines\n",
      "hours per week of people with salary above 50K:  43\n",
      "hours per week of people with salary below 50K:  38 \n",
      "\n",
      "country:  Poland\n",
      "hours per week of people with salary above 50K:  39\n",
      "hours per week of people with salary below 50K:  38 \n",
      "\n",
      "country:  Portugal\n",
      "hours per week of people with salary above 50K:  42\n",
      "hours per week of people with salary below 50K:  42 \n",
      "\n",
      "country:  Puerto-Rico\n",
      "hours per week of people with salary above 50K:  39\n",
      "hours per week of people with salary below 50K:  38 \n",
      "\n",
      "country:  Scotland\n",
      "hours per week of people with salary above 50K:  47\n",
      "hours per week of people with salary below 50K:  39 \n",
      "\n",
      "country:  South\n",
      "hours per week of people with salary above 50K:  51\n",
      "hours per week of people with salary below 50K:  40 \n",
      "\n",
      "country:  Taiwan\n",
      "hours per week of people with salary above 50K:  47\n",
      "hours per week of people with salary below 50K:  34 \n",
      "\n",
      "country:  Thailand\n",
      "hours per week of people with salary above 50K:  58\n",
      "hours per week of people with salary below 50K:  43 \n",
      "\n",
      "country:  Trinadad&Tobago\n",
      "hours per week of people with salary above 50K:  40\n",
      "hours per week of people with salary below 50K:  37 \n",
      "\n",
      "country:  United-States\n",
      "hours per week of people with salary above 50K:  46\n",
      "hours per week of people with salary below 50K:  39 \n",
      "\n",
      "country:  Vietnam\n",
      "hours per week of people with salary above 50K:  39\n",
      "hours per week of people with salary below 50K:  37 \n",
      "\n",
      "country:  Yugoslavia\n",
      "hours per week of people with salary above 50K:  50\n",
      "hours per week of people with salary below 50K:  42 \n",
      "\n"
     ]
    }
   ],
   "source": [
    "for country, country_data in data.groupby('native-country'):\n",
    "    if country != '?':\n",
    "        try:\n",
    "            print(\"country: \", country)\n",
    "            rich_ppl = country_data[country_data['salary'] == '>50K']\n",
    "            poor_ppl = country_data[country_data['salary'] == '<=50K']\n",
    "            print(\"hours per week of people with salary above 50K: \",\\\n",
    "                  round(rich_ppl['hours-per-week'].mean()))\n",
    "            print(\"hours per week of people with salary below 50K: \",\\\n",
    "                  round(poor_ppl['hours-per-week'].mean()), \"\\n\")\n",
    "            \n",
    "        except ValueError:\n",
    "            print(\"no people with such salary \\n\")"
   ]
  }
 ],
 "metadata": {
  "anaconda-cloud": {},
  "kernelspec": {
   "display_name": "Python 3",
   "language": "python",
   "name": "python3"
  },
  "language_info": {
   "codemirror_mode": {
    "name": "ipython",
    "version": 3
   },
   "file_extension": ".py",
   "mimetype": "text/x-python",
   "name": "python",
   "nbconvert_exporter": "python",
   "pygments_lexer": "ipython3",
   "version": "3.7.1"
  }
 },
 "nbformat": 4,
 "nbformat_minor": 1
}
